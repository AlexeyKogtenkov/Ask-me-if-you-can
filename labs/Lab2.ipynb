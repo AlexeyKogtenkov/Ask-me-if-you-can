{
 "cells": [
  {
   "cell_type": "markdown",
   "metadata": {},
   "source": [
    "# Лабораторная работа №2"
   ]
  },
  {
   "cell_type": "markdown",
   "metadata": {},
   "source": [
    "**Многоклассовый стохастический градиентный спуск**\n",
    "\n",
    "Вначале просто сделаем нужные нам функции."
   ]
  },
  {
   "cell_type": "code",
   "execution_count": 1,
   "metadata": {
    "collapsed": true
   },
   "outputs": [],
   "source": [
    "from matplotlib import pyplot, mlab\n",
    "import numpy\n",
    "import copy\n",
    "import math\n",
    "from scipy.optimize import minimize_scalar\n",
    "import copy"
   ]
  },
  {
   "cell_type": "code",
   "execution_count": 2,
   "metadata": {
    "collapsed": true
   },
   "outputs": [],
   "source": [
    "def create_batch(groups, batch_size, features_number, data_for_learning_size, step_num):\n",
    "    X = []\n",
    "    Y = []\n",
    "    elems_from_group = max(1, batch_size // len(groups))\n",
    "    for i in range(len(groups)):\n",
    "        for j in range(step_num * elems_from_group, step_num * elems_from_group + elems_from_group):\n",
    "            X.append(groups[i][j % data_for_learning_size])\n",
    "            Y.append(i)\n",
    "    X = numpy.array(X)\n",
    "    return X, Y"
   ]
  },
  {
   "cell_type": "code",
   "execution_count": 3,
   "metadata": {
    "collapsed": false
   },
   "outputs": [],
   "source": [
    "def load_data(max_size=5000):\n",
    "    data = numpy.genfromtxt('train.csv', delimiter=',')\n",
    "    data = data[1:]\n",
    "    groups = [[] for i in range(10)]\n",
    "    for elem in data:\n",
    "        if len(elem) != 785:\n",
    "            print(\"CRITICAL ERROR: THE PROGRAM CANNOT READ THIS FILE\")\n",
    "            break\n",
    "        elif int(elem[0]) < len(groups):\n",
    "            tmp = list(elem[1:])\n",
    "            tmp.append(1)\n",
    "            groups[int(elem[0])].append(tmp)\n",
    "    return groups"
   ]
  },
  {
   "cell_type": "markdown",
   "metadata": {},
   "source": [
    "Поскольку теперь у нас не вектор весов, а целая матрица, то и градиент у нас будет не вектором, а матрицей производных. Мы ввели ошибку \n",
    "$$ Q(W) = -\\frac 1l \\sum_k \\sum_i [y_k = i] \\cdot \\ln(p_i(Wx^k)), $$ где $p_i(Wx^k) = \\frac{\\exp(w_i x^k)}{\\sum_j \\exp(w_j x^k)}$, где $x^k$ - это $k$-й столбец матрицы $X$, $w_i$ - это $i$-я строка матрицы $W$.\n",
    "\n",
    "Посчитаем $\\frac{dQ}{dw_i^j}$. Это равно\n",
    "$$ -\\frac 1l \\sum_k \\sum_{p\\ne i} \\left([y_k=p] \\frac{\\sum_r \\exp(w_rx^k)}{\\exp(w_px^k)} \\cdot \\frac{-\\exp(w_px^k) \\exp(w_i x^k) x_j^k}{(\\sum_r \\exp(w_rx^k))^2}\\right) - \n",
    "\\frac 1l \\sum_k\\sum_{p=i} \\left([y_k=p] \\frac{\\sum_r \\exp(w_rx^k)}{\\exp(w_ix^k)}\\cdot \\frac{x_j^k\\exp (w_ix^k)\\sum_r \\exp(w_rx^k)-\\exp(w_ix^k)\\exp(w_ix^k)x_j^k}{\\left(\\sum_r\\exp (w_rx^k)\\right)^2}\\right) =\n",
    "$$\n",
    "\n",
    "$$ = -\\frac 1l \\sum_k \\left(\\sum_{p\\ne i} \\left([y_k=p] (-x_j^k) p_i(Wx^k)\\right) + [y_k=i] x_j^k (1-p_i(Wx^k))\\right)$$\n",
    "(просто взяли производную и упростили. Я надеюсь, что читатель справится поверить/проверить.)\n",
    "\n",
    "Далее заметим, что $x_j^k (1-p_i(Wx^k))$ есть ни что иное как $-x_j^k p_i(Wx^k) + x_j^k$. Тогда вся эта сумма преобразовывается в \n",
    "$$\n",
    "-\\frac 1l \\sum_k \\sum_p \\left([y_k=p] ((-x_j^k) p_i(Wx^k) + x_j^k \\cdot [y_k=i])\\right)\n",
    "$$\n",
    "Тогда матрица градиента будет равна\n",
    "$$\n",
    "\\frac 1l X \\cdot (p(WX)-\\delta),$$\n",
    "где $\\delta$ - матрица, в $i$-й строке которой стоит 1 в $j$-м столбец тогда и только тогда, когда $i$-й элемент выборки соответствует классу $j$.\n",
    "\n",
    "Примечание: я тут мог что-то напутать, т.к. уже совсем запутался с тем, что лежит в строке, а что в столбце. У меня в программе на самом деле в элементы выборки лежат в строках.\n",
    "\n",
    "Также реализованы регуляризаторы, однако мне не удалось добиться того, чтобы они хоть как-то влияли на результаты обучения в лучшую сторону."
   ]
  },
  {
   "cell_type": "code",
   "execution_count": 4,
   "metadata": {
    "collapsed": true
   },
   "outputs": [],
   "source": [
    "def softmax(x):\n",
    "    e_x = numpy.exp(x - numpy.max(x))\n",
    "    return e_x / e_x.sum()\n",
    "\n",
    "\n",
    "def softmax_matrix(X):\n",
    "    for i in range(len(X)):\n",
    "        X[i] = softmax(X[i])\n",
    "    return X\n",
    "\n",
    "\n",
    "def calculate_loss(W, X, Y, reg_coeff_1=0, reg_coeff_2=0):\n",
    "    ans = 0\n",
    "    for x, y in zip(X, Y):\n",
    "        w = W[y]\n",
    "        probabilities = softmax(numpy.dot(x, W.T))\n",
    "        ans += math.log(probabilities[y])\n",
    "    ans *= (-1 / len(X))\n",
    "    reg_sum_1 = 0\n",
    "    reg_sum_2 = 0\n",
    "    for w in W:\n",
    "        for elem in w:\n",
    "            reg_sum_1 += abs(elem)\n",
    "            reg_sum_2 += elem**2\n",
    "    return ans + reg_coeff_1 * reg_sum_1 + reg_coeff_2 * reg_sum_2\n",
    "\n",
    "\n",
    "def calculate_loss_gradient(W, X, Y, reg_coeff_1=0, reg_coeff_2=0):\n",
    "    gradient = numpy.zeros((len(W), len(W[0])))\n",
    "    delta = numpy.zeros((len(X), len(W)))\n",
    "    for k in range(len(X)):\n",
    "        delta[k][Y[k]] = 1\n",
    "    gradient = numpy.dot((softmax_matrix(numpy.dot(X, W.T)) - delta).T, X)\n",
    "    gradient /= len(X)\n",
    "    gradient += reg_coeff_2 * 2 * W\n",
    "    for i in range(len(gradient)):\n",
    "        for j in range(len(gradient[i])):\n",
    "            if W[i][j] > 0:\n",
    "                gradient[i][j] += reg_coeff_1\n",
    "            else:\n",
    "                gradient[i][j] -= reg_coeff_1\n",
    "    return gradient\n",
    "\n",
    "\n",
    "def calculate_next_loss(learning_rate, W, X, Y, gradient, reg_coeff_1=0, reg_coeff_2=0): #for minimize_scalar\n",
    "    next_W = W - learning_rate * gradient\n",
    "    return calculate_loss(next_W, X, Y, reg_coeff_1, reg_coeff_2)\n",
    "\n",
    "\n",
    "def get_number_errors(W, groups):\n",
    "    ans = 0\n",
    "    for y in range(0, len(groups)):\n",
    "        for x in groups[y]:\n",
    "            algo_ans = softmax(numpy.dot(x, W.T))\n",
    "            max_val = algo_ans[0]\n",
    "            best_ind = 0\n",
    "            for i in range(1, len(algo_ans)):\n",
    "                if max_val < algo_ans[i]:\n",
    "                    best_ind = i\n",
    "                    max_val = algo_ans[i]\n",
    "            ans += int(best_ind != y)\n",
    "    return ans"
   ]
  },
  {
   "cell_type": "code",
   "execution_count": 5,
   "metadata": {
    "collapsed": false
   },
   "outputs": [],
   "source": [
    "def stohastic_gradient_descent(groups, batch_size, max_number_steps,\n",
    "                              features_number, data_for_learning_size, min_error,\n",
    "                              deceleration=0.93, acceleration=1.1, learning_rate=0.000005,\n",
    "                              reg_coeff_1=0, reg_coeff_2=0):\n",
    "    list_errors = []\n",
    "    steps = 0\n",
    "    W = numpy.zeros((len(groups), features_number))\n",
    "    general_error = min_error + 1 #this value allows us to execute 'while' below at least 1 time\n",
    "    while steps < max_number_steps and general_error > min_error: \n",
    "        X, Y = create_batch(groups, batch_size, features_number, data_for_learning_size, steps)\n",
    "        \n",
    "        gradient = calculate_loss_gradient(W, X, Y, reg_coeff_1, reg_coeff_2)\n",
    "        #if calculate_next_loss(learning_rate, W, X, Y, gradient, reg_coeff_1, reg_coeff_2) > calculate_loss(W, X, Y, reg_coeff_1, reg_coeff_2):\n",
    "        #    learning_rate *= deceleration\n",
    "        W -= learning_rate * gradient\n",
    "        steps += 1\n",
    "        #general_error = get_number_errors(W, groups)\n",
    "        list_errors.append(calculate_loss(W, X, Y, reg_coeff_1, reg_coeff_2))\n",
    "        #print(\" le: \", calculate_loss(W, X, Y), \" lr: \", learning_rate, \", \", steps, \"%\", sep = '')\n",
    "    return W, list_errors"
   ]
  },
  {
   "cell_type": "code",
   "execution_count": 6,
   "metadata": {
    "collapsed": false
   },
   "outputs": [
    {
     "name": "stdout",
     "output_type": "stream",
     "text": [
      "4132\n",
      "4684\n",
      "4177\n",
      "4351\n",
      "4072\n",
      "3795\n",
      "4137\n",
      "4401\n",
      "4063\n",
      "4188\n"
     ]
    }
   ],
   "source": [
    "groups = load_data()\n",
    "for elem in groups:\n",
    "    print(len(elem))"
   ]
  },
  {
   "cell_type": "markdown",
   "metadata": {},
   "source": [
    "Ниже мы в цикле проверяем для различных значений коэффициентов в регуляризаторах, какое качество обучения будет. Выводится график изменения ошибки для лучшего значения."
   ]
  },
  {
   "cell_type": "code",
   "execution_count": 9,
   "metadata": {
    "collapsed": false
   },
   "outputs": [
    {
     "name": "stdout",
     "output_type": "stream",
     "text": [
      "Batch size:  200\n",
      "Elements for learning: 20000/42000\n",
      "lambda1:  0 ; lambda2:  0 ; accuracy:  0.1045\n",
      "lambda1:  0 ; lambda2:  0.05 ; accuracy:  0.1045\n",
      "lambda1:  0 ; lambda2:  0.1 ; accuracy:  0.1045\n",
      "lambda1:  0 ; lambda2:  0.2 ; accuracy:  0.1045\n",
      "lambda1:  0.01 ; lambda2:  0 ; accuracy:  0.10468181818181818\n",
      "lambda1:  0.01 ; lambda2:  0.05 ; accuracy:  0.10468181818181818\n",
      "lambda1:  0.01 ; lambda2:  0.1 ; accuracy:  0.10468181818181818\n",
      "lambda1:  0.01 ; lambda2:  0.2 ; accuracy:  0.10468181818181818\n",
      "lambda1:  0.02 ; lambda2:  0 ; accuracy:  0.1050909090909091\n",
      "lambda1:  0.02 ; lambda2:  0.05 ; accuracy:  0.10504545454545454\n",
      "lambda1:  0.02 ; lambda2:  0.1 ; accuracy:  0.10504545454545454\n",
      "lambda1:  0.02 ; lambda2:  0.2 ; accuracy:  0.10504545454545454\n",
      "lambda1:  0.04 ; lambda2:  0 ; accuracy:  0.10577272727272727\n",
      "lambda1:  0.04 ; lambda2:  0.05 ; accuracy:  0.10577272727272727\n",
      "lambda1:  0.04 ; lambda2:  0.1 ; accuracy:  0.10572727272727273\n",
      "lambda1:  0.04 ; lambda2:  0.2 ; accuracy:  0.10572727272727273\n",
      "Steps:  200\n",
      "Errors:  2299 / 22000\n",
      "Used elements:  20000\n"
     ]
    },
    {
     "data": {
      "image/png": "[encoded data removed]",
      "text/plain": [
       "<matplotlib.figure.Figure at 0x7f82b256bd68>"
      ]
     },
     "metadata": {},
     "output_type": "display_data"
    }
   ],
   "source": [
    "list_results = []\n",
    "FEATURES_NUMBER = len(groups[0][0])\n",
    "DATA_FOR_LEARNING_SIZE = 2000 #from every group\n",
    "MIN_ERROR = 20\n",
    "EPS = 0.0001\n",
    "BATCH_SIZE = 200\n",
    "STEPS = 200\n",
    "print(\"Batch size: \", BATCH_SIZE)\n",
    "print(\"Elements for learning:\", DATA_FOR_LEARNING_SIZE * len(groups), end = \"/\")\n",
    "number_elems = 0\n",
    "for group in groups:\n",
    "    number_elems += len(group)\n",
    "print(number_elems)\n",
    "list_errors = []\n",
    "best_list_errors = []\n",
    "best_res = number_elems\n",
    "best_coeffs = (0, 0)\n",
    "check_groups = copy.copy(groups)\n",
    "number_elems = 0\n",
    "for i in range(len(groups)):\n",
    "    check_groups[i] = check_groups[i][DATA_FOR_LEARNING_SIZE:]\n",
    "    number_elems += len(check_groups[i])\n",
    "for reg_coeff_1 in [0, 0.01, 0.02, 0.04]:\n",
    "    for reg_coeff_2 in [0, 0.05, 0.1, 0.2]:\n",
    "        w, list_errors = stohastic_gradient_descent(groups=groups, \n",
    "                                                    batch_size=BATCH_SIZE,\n",
    "                                                    max_number_steps=STEPS,\n",
    "                                                    features_number=FEATURES_NUMBER, \n",
    "                                                    data_for_learning_size=DATA_FOR_LEARNING_SIZE, \n",
    "                                                    min_error=MIN_ERROR, \n",
    "                                                    reg_coeff_1=reg_coeff_1, \n",
    "                                                    reg_coeff_2=reg_coeff_2)\n",
    "        res = get_number_errors(w, check_groups)\n",
    "        if best_res > res:\n",
    "            best_res = res\n",
    "            best_list_errors = list_errors\n",
    "            best_coeffs = (reg_coeff_1, reg_coeff_2)\n",
    "        print(\"lambda1: \", reg_coeff_1, \"; lambda2: \", reg_coeff_2, \"; accuracy: \", res / number_elems)\n",
    "\n",
    "print(\"Steps: \", STEPS)\n",
    "print(\"Errors: \", best_res, \"/\", number_elems)\n",
    "print(\"Used elements: \", min(DATA_FOR_LEARNING_SIZE * len(groups), len(best_list_errors) * BATCH_SIZE))\n",
    "pyplot.plot([BATCH_SIZE * j for j in range(len(best_list_errors))], best_list_errors, \"blue\")\n",
    "pyplot.show()"
   ]
  },
  {
   "cell_type": "markdown",
   "metadata": {
    "collapsed": true
   },
   "source": [
    "_Давайте рассмотрим пример на множестве бинарных функций, $x \\in \\{0, 1\\}^{2}$. Пусть есть модель\n",
    "$y = \\theta(wx + b),$_\n",
    "_где $\\theta$ - функция Хевисайда._\n",
    "\n",
    "**_Задание_**\n",
    "\n",
    "_1) Предложите значения $w$ и $b$, чтобы $y$ реализовала операторы and, or._\n",
    "\n",
    "_2) Приведите пример булевой функции, которая не может быть представлена в виде $y$._\n",
    "\n",
    "Возьмем $w = (0.9\\ 0.9), b = -1$. Тогда $wx + b >= 0$ тогда и только тогда, когда $x = (1\\ 1)$. Значит, при таких $w, b$ функция $y$ задает оператор $and$.\n",
    "\n",
    "Возьмем $w = (2\\ 2), b = -1$. Тогда $wx + b >= 0$ тогда и только тогда, когда $x \\ne (0\\ 0)$. Значит, при таких $w, b$ функция $y$ задает оператор $or$.\n",
    "\n",
    "Возьмем оператор $\\oplus$, пусть он представляется функцией $y$. Тогда\n",
    "\n",
    "$b < 0$ (при $x = (0\\ 0)$ функция, равная $\\theta(wx + b)=\\theta(b)$ должна вернуть 0);\n",
    "\n",
    "$w_1 + b >= 0; w_2 + b >= 0$ (при $x=(1\\ 0)$ или $(0\\ 1)$ функция должна возвращать 1);\n",
    "\n",
    "$w_1 + w_2 + b < 0$.\n",
    "\n",
    "Но очевидно, что эта система несовместна. Значит, нельзя представить операцию $\\oplus$ с помощью $y$."
   ]
  },
  {
   "cell_type": "markdown",
   "metadata": {},
   "source": [
    "_Давайте рассмотрим случай посложнее, пусть теперь $x \\in \\{0, 1\\}^{n}$, $y = \\theta(W_2 \\cdot \\theta(W_1x + b_1) + b_2)$, где функция $\\theta$ для вектора применяется поэлементно. Кстати, судя по размерности, $W_2$ - вектор, но для общности записан с большой буквы._\n",
    "\n",
    "_**Задание**_\n",
    "\n",
    "_1) Можете ли вы теперь представить вашу функцию в виде $y$?_\n",
    "\n",
    "_2) Может ли $y$ реализовать произвольную булеву функцию?_\n",
    "\n",
    "Сначала заметим, что выше мы с помощью $\\theta(W_2 z + b)$ научились находить $and(z)$ и $or(z)$ (я указал для двух элементов, но для большого количества делается аналогично: например, чтобы сделать $and(x_1, x_2, \\ldots, x_n)$, надо выставить значения $w_1, \\ldots, w_n$ равными $n^{-1}$, $b=1-\\epsilon$).\n",
    "\n",
    "Также из этого следует, что мы можем находить $\\neg and(z)$ и $\\neg or(z)$ (надо просто инвертировать знаки $w, b$, тогда значение $\\theta$ тоже инвертируется). При желании можно получать отрицания переменной с номером $k$, просто подставляя $w_{i\\ne k}=0; b = 0; w_k = -1$.\n",
    "\n",
    "Операция $x_1\\oplus x_2$ - это $(x_1 \\vee x_2) \\wedge \\neg(x_1 \\wedge x_2)$. А эту формулу мы умеем уже выражать как\n",
    "$\\theta(W_2\\cdot \\theta(W_1 x + b_1) + b_2)$: просто подставляем в строки матрицы $W_1, W_2$ нужные вектора, полученные в предыд. задании, а так же в $b_1, b_2$.\n",
    "\n",
    "Любую булеву функцию можно представить в виде ДНФ. ДНФ - это дизъюнция конъюнкций, в которые могут входить отрицания. С помощью $z=\\theta(W_1x + b_1)$ можно получить любой набор таких конъюнкций. А дизъюнкцию вектора $z$ мы вычисляем как $y(z)=\\theta(W_2 z + b_2)$. Таким образом, мы можем вычислить любую формулу."
   ]
  },
  {
   "cell_type": "markdown",
   "metadata": {},
   "source": [
    "**Реализация полносвязной двуслойной сети**\n",
    "\n",
    "Видно, что для двуслойной сети за такое же количество эпох мы имеем лучшее качество. Другое дело, что и обучение длится в 2 раза дольше."
   ]
  },
  {
   "cell_type": "code",
   "execution_count": 1,
   "metadata": {
    "collapsed": false
   },
   "outputs": [
    {
     "name": "stderr",
     "output_type": "stream",
     "text": [
      "Using TensorFlow backend.\n"
     ]
    },
    {
     "name": "stdout",
     "output_type": "stream",
     "text": [
      "60000 train samples\n",
      "10000 test samples\n"
     ]
    }
   ],
   "source": [
    "from __future__ import print_function\n",
    "import numpy as np\n",
    "np.random.seed(1337)  # for reproducibility\n",
    "\n",
    "from keras.datasets import mnist\n",
    "from keras.models import Sequential\n",
    "from keras.layers.core import Dense, Dropout, Activation\n",
    "from keras.optimizers import SGD, Adam, RMSprop\n",
    "from keras.utils import np_utils\n",
    "\n",
    "(X_train, y_train), (X_test, y_test) = mnist.load_data()\n",
    "\n",
    "X_train = X_train.reshape(60000, 784)\n",
    "X_test = X_test.reshape(10000, 784)\n",
    "X_train = X_train.astype('float32')\n",
    "X_test = X_test.astype('float32')\n",
    "X_train /= 255\n",
    "X_test /= 255\n",
    "print(X_train.shape[0], 'train samples')\n",
    "print(X_test.shape[0], 'test samples')"
   ]
  },
  {
   "cell_type": "code",
   "execution_count": 157,
   "metadata": {
    "collapsed": false
   },
   "outputs": [
    {
     "name": "stdout",
     "output_type": "stream",
     "text": [
      "60000 train samples\n",
      "10000 test samples\n",
      "\n",
      "Layer size: 16\n",
      "Test score: 0.258854511353\n",
      "Test accuracy: 0.9267\n",
      "\n",
      "Layer size: 32\n",
      "Test score: 0.230705892196\n",
      "Test accuracy: 0.9335\n",
      "\n",
      "Layer size: 64\n",
      "Test score: 0.187577620359\n",
      "Test accuracy: 0.9466\n",
      "\n",
      "Layer size: 128\n",
      "Test score: 0.152562427942\n",
      "Test accuracy: 0.9517\n",
      "\n",
      "Layer size: 256\n",
      "Test score: 0.121266644774\n",
      "Test accuracy: 0.9637\n",
      "\n",
      "Layer size: 512\n",
      "Test score: 0.1080652511\n",
      "Test accuracy: 0.9664\n",
      "\n",
      "Layer size: 1024\n",
      "Test score: 0.086498718244\n",
      "Test accuracy: 0.9715\n"
     ]
    },
    {
     "data": {
      "image/png": "[encoded data removed]",
      "text/plain": [
       "<matplotlib.figure.Figure at 0x7f4f4cdfd1d0>"
      ]
     },
     "metadata": {},
     "output_type": "display_data"
    }
   ],
   "source": [
    "batch_size = 200\n",
    "nb_classes = 10\n",
    "nb_epoch = 2\n",
    "\n",
    "# convert class vectors to binary class matrices\n",
    "Y_train = np_utils.to_categorical(y_train, nb_classes)\n",
    "Y_test = np_utils.to_categorical(y_test, nb_classes)\n",
    "\n",
    "LAYER_SIZE = [16, 32, 64, 128, 256, 512, 1024]\n",
    "list_accuracy = []\n",
    "for layer_size in LAYER_SIZE:\n",
    "    print()\n",
    "    print(\"Layer size:\", layer_size)\n",
    "    model = Sequential()\n",
    "    model.add(Dense(layer_size, input_shape=(784,)))\n",
    "    model.add(Activation('relu'))\n",
    "    model.add(Dense(10))\n",
    "    model.add(Activation('softmax'))\n",
    "    model.compile(loss='categorical_crossentropy',\n",
    "                  optimizer=RMSprop(),\n",
    "                  metrics=['accuracy'])\n",
    "    history = model.fit(X_train, Y_train,\n",
    "                        batch_size=batch_size, nb_epoch=nb_epoch,\n",
    "                        verbose=0, validation_data=(X_test, Y_test))\n",
    "    score = model.evaluate(X_test, Y_test, verbose=0)\n",
    "    print('Test score:', score[0])\n",
    "    print('Test accuracy:', score[1])\n",
    "    list_accuracy.append(score[1])\n",
    "y_bar = [0] * len(list_accuracy) * 2\n",
    "x_bar = [0] * len(list_accuracy) * 2\n",
    "for i in range(len(list_accuracy)):\n",
    "    y_bar[i * 2] = 0\n",
    "    y_bar[i * 2 + 1] = list_accuracy[i]\n",
    "    x_bar[i * 2] = i\n",
    "    x_bar[i * 2 + 1] = i + 1\n",
    "pyplot.bar(x_bar, y_bar, 1)\n",
    "plt.xticks(x_bar)\n",
    "pyplot.show()"
   ]
  },
  {
   "cell_type": "markdown",
   "metadata": {},
   "source": [
    "Видно, что с увеличением размера слоя в 2 раза ошибка уменьшается линейно, и с некоторого момента рост замедляется.\n",
    "\n",
    "Таким образом, не имеет смысла делать размер слоя больше 256 или 512, поскольку качество почти перестает улучшаться.\n",
    "\n",
    "Ниже приведен алгоритм, который реализует многослойную сеть с небольшими размерами слоев: первый слой имеет размер 256, остальные имеют размер 64, кроме последнего, размер которого равен 10."
   ]
  },
  {
   "cell_type": "code",
   "execution_count": 12,
   "metadata": {
    "collapsed": false
   },
   "outputs": [
    {
     "name": "stdout",
     "output_type": "stream",
     "text": [
      "Layers:  2\n",
      "Test score: 0.064050740806\n",
      "Test accuracy: 0.9819\n",
      "Layers:  3\n",
      "Test score: 0.0733169970408\n",
      "Test accuracy: 0.982\n",
      "Layers:  4\n",
      "Test score: 0.0818073636846\n",
      "Test accuracy: 0.9802\n",
      "Layers:  5\n",
      "Test score: 0.0824218913875\n",
      "Test accuracy: 0.9805\n",
      "Layers:  6\n",
      "Test score: 0.0804722498798\n",
      "Test accuracy: 0.9794\n",
      "Layers:  7\n",
      "Test score: 0.0822479630598\n",
      "Test accuracy: 0.9796\n",
      "Layers:  8\n",
      "Test score: 0.104052912133\n",
      "Test accuracy: 0.9764\n",
      "Layers:  9\n",
      "Test score: 0.125866291558\n",
      "Test accuracy: 0.9777\n"
     ]
    },
    {
     "data": {
      "image/png": "[encoded data removed]",
      "text/plain": [
       "<matplotlib.figure.Figure at 0x7f82aa7006a0>"
      ]
     },
     "metadata": {},
     "output_type": "display_data"
    }
   ],
   "source": [
    "batch_size = 128\n",
    "nb_classes = 10\n",
    "nb_epoch = 10\n",
    "\n",
    "# convert class vectors to binary class matrices\n",
    "Y_train = np_utils.to_categorical(y_train, nb_classes)\n",
    "Y_test = np_utils.to_categorical(y_test, nb_classes)\n",
    "\n",
    "list_errors = []\n",
    "\n",
    "for layers in range(2, 10):\n",
    "    print(\"Layers: \", layers)\n",
    "    model = Sequential()\n",
    "    model.add(Dense(256, input_shape=(784,)))\n",
    "    model.add(Dropout(0.1))\n",
    "    model.add(Activation('relu'))\n",
    "    for i in range(1, layers - 1):\n",
    "        model.add(Dense(64))\n",
    "        model.add(Activation('relu'))\n",
    "    model.add(Dense(10))\n",
    "    model.add(Activation('softmax'))\n",
    "\n",
    "    model.compile(loss='categorical_crossentropy',\n",
    "                  optimizer=RMSprop(),\n",
    "                  metrics=['accuracy'])\n",
    "\n",
    "    history = model.fit(X_train, Y_train,\n",
    "                        batch_size=batch_size, nb_epoch=nb_epoch,\n",
    "                        verbose=0, validation_data=(X_test, Y_test))\n",
    "    score = model.evaluate(X_test, Y_test, verbose=0)\n",
    "    print('Test score:', score[0])\n",
    "    print('Test accuracy:', score[1])\n",
    "    list_errors.append(score[1])\n",
    "pyplot.plot([i + 2 for i in range(len(list_errors))], list_errors, \"blue\")\n",
    "pyplot.show()"
   ]
  },
  {
   "cell_type": "markdown",
   "metadata": {},
   "source": [
    "Видно, что с ростом количества слоев ошибка увеличивается.\n",
    "\n",
    "Ниже приведен алгоритм, который с помощью автокодировщика обучает сеть из 7 слоев. Первый слой имеет размер 256, слои со 2-го по 5-й обучаются с помощью автокодировщика и имеют размер 64 - $i \\cdot 2$, где $i+1=$ номер слоя, слои 6 и 7 обучаются с помощью обычного обучения и имеют размер 52 и 10 соответственно."
   ]
  },
  {
   "cell_type": "code",
   "execution_count": 6,
   "metadata": {
    "collapsed": false
   },
   "outputs": [
    {
     "name": "stdout",
     "output_type": "stream",
     "text": [
      "Start learning...\n",
      "Layer № 1 added\n",
      "Accuracy: 0.00621453641355\n",
      "Layer № 2 added\n",
      "Accuracy: 0.0181479619712\n",
      "Layer № 3 added\n",
      "Accuracy: 0.00819112404585\n",
      "Layer № 4 added\n",
      "Accuracy: 0.00705839088485\n",
      "Layer № 5 added\n",
      "Accuracy: 0.00709323872626\n",
      "All layers added. Learning...\n",
      "Train on 60000 samples, validate on 10000 samples\n",
      "Epoch 1/15\n",
      "60000/60000 [==============================] - 7s - loss: 1.1131 - acc: 0.7033 - val_loss: 0.5414 - val_acc: 0.8615\n",
      "Epoch 2/15\n",
      "60000/60000 [==============================] - 6s - loss: 0.4668 - acc: 0.8710 - val_loss: 0.3957 - val_acc: 0.8886\n",
      "Epoch 3/15\n",
      "60000/60000 [==============================] - 6s - loss: 0.3814 - acc: 0.8911 - val_loss: 0.3454 - val_acc: 0.9013\n",
      "Epoch 4/15\n",
      "60000/60000 [==============================] - 6s - loss: 0.3469 - acc: 0.8988 - val_loss: 0.3245 - val_acc: 0.9047\n",
      "Epoch 5/15\n",
      "60000/60000 [==============================] - 6s - loss: 0.3262 - acc: 0.9036 - val_loss: 0.3084 - val_acc: 0.9078\n",
      "Epoch 6/15\n",
      "60000/60000 [==============================] - 6s - loss: 0.3081 - acc: 0.9085 - val_loss: 0.2886 - val_acc: 0.9142\n",
      "Epoch 7/15\n",
      "60000/60000 [==============================] - 7s - loss: 0.2934 - acc: 0.9134 - val_loss: 0.2789 - val_acc: 0.9194\n",
      "Epoch 8/15\n",
      "60000/60000 [==============================] - 7s - loss: 0.2820 - acc: 0.9168 - val_loss: 0.2630 - val_acc: 0.9225\n",
      "Epoch 9/15\n",
      "60000/60000 [==============================] - 6s - loss: 0.2704 - acc: 0.9199 - val_loss: 0.2593 - val_acc: 0.9249\n",
      "Epoch 10/15\n",
      "60000/60000 [==============================] - 7s - loss: 0.2610 - acc: 0.9232 - val_loss: 0.2498 - val_acc: 0.9278\n",
      "Epoch 11/15\n",
      "60000/60000 [==============================] - 6s - loss: 0.2525 - acc: 0.9257 - val_loss: 0.2415 - val_acc: 0.9295\n",
      "Epoch 12/15\n",
      "60000/60000 [==============================] - 7s - loss: 0.2444 - acc: 0.9281 - val_loss: 0.2367 - val_acc: 0.9299\n",
      "Epoch 13/15\n",
      "60000/60000 [==============================] - 7s - loss: 0.2373 - acc: 0.9303 - val_loss: 0.2289 - val_acc: 0.9332\n",
      "Epoch 14/15\n",
      "60000/60000 [==============================] - 7s - loss: 0.2299 - acc: 0.9323 - val_loss: 0.2214 - val_acc: 0.9340\n",
      "Epoch 15/15\n",
      "60000/60000 [==============================] - 6s - loss: 0.2244 - acc: 0.9337 - val_loss: 0.2162 - val_acc: 0.9357\n",
      "Test score: 0.216202544209\n",
      "Test accuracy: 0.9357\n"
     ]
    }
   ],
   "source": [
    "batch_size = 128\n",
    "nb_classes = 10\n",
    "nb_epoch = 15\n",
    "\n",
    "# convert class vectors to binary class matrices\n",
    "Y_train = np_utils.to_categorical(y_train, nb_classes)\n",
    "Y_test = np_utils.to_categorical(y_test, nb_classes)\n",
    "\n",
    "layers = [\n",
    "    Dense(256, input_shape=(784,)),\n",
    "    Activation('relu')\n",
    "]\n",
    "\n",
    "y_train_autoencoder = X_train\n",
    "y_test_autoencoder = X_test\n",
    "autoencoder_dence = Dense(784, input_shape=(256,))\n",
    "\n",
    "print(\"Start learning...\")\n",
    "for layers_number in range(1, 6):\n",
    "    model = Sequential(layers[-2:] + [autoencoder_dence])\n",
    "    model.compile(loss='mean_squared_error',\n",
    "                  optimizer=RMSprop(),\n",
    "                  metrics=['mean_squared_error'])\n",
    "    \n",
    "    history = model.fit(y_train_autoencoder, y_train_autoencoder,\n",
    "                    batch_size=batch_size, nb_epoch=nb_epoch,\n",
    "                    verbose=0, validation_data=(y_test_autoencoder, y_test_autoencoder))\n",
    "\n",
    "    print(\"Layer №\", layers_number, \"added\")\n",
    "    print(\"Accuracy:\", model.evaluate(y_test_autoencoder, y_test_autoencoder, verbose=0)[1])\n",
    "    model = Sequential(layers)\n",
    "    y_train_autoencoder = model.predict(X_train)\n",
    "    y_test_autoencoder = model.predict(X_test)\n",
    "    if layers_number == 1:\n",
    "        autoencoder_dence = Dense(256, input_shape=(62,))\n",
    "    else:\n",
    "        autoencoder_dence = Dense(64 - 2 * layers_number + 2, input_shape=(64-2*layers_number,))\n",
    "    layers[-2].trainable = False\n",
    "    layers[-1].trainable = False\n",
    "    if layers_number != 1:\n",
    "        layers.append(Dense(64 - 2 * layers_number, input_shape=(64-2*(layers_number-1),)))\n",
    "    else:\n",
    "        layers.append(Dense(64 - 2 * layers_number, input_shape=(256,)))\n",
    "    layers.append(Activation('relu'))\n",
    "print(\"All layers added. Learning...\")\n",
    "layers.append(Dense(10))\n",
    "layers.append(Activation('softmax'))\n",
    "model = Sequential(layers)\n",
    "model.compile(loss='categorical_crossentropy',\n",
    "             optimizer=Adam(),\n",
    "             metrics=['accuracy'])\n",
    "    \n",
    "history = model.fit(X_train, Y_train,\n",
    "                    batch_size=batch_size, nb_epoch=nb_epoch,\n",
    "                    verbose=1, validation_data=(X_test, Y_test))\n",
    "score = model.evaluate(X_test, Y_test, verbose=0)\n",
    "print('Test score:', score[0])\n",
    "print('Test accuracy:', score[1])"
   ]
  },
  {
   "cell_type": "markdown",
   "metadata": {
    "collapsed": true
   },
   "source": [
    "Видно, что сеть обучается хуже, чем в простом варианте. Мораль: это не панацея. \n",
    "\n",
    "С другой стороны, возможно, если по-другому выбирать слои, то возможно будет работать лучше. Данная сеть из 7 слоев построена искусственно: ясно (мне, по крайней мере), что для такой задачи достаточно сети на 3-4 слоя максимум (хотя бы из-за сравнительно небольшого размера выборки). А искусственные вещи обычно работают довольно плохо. \n",
    "\n",
    "На самом деле можно заметить, что принцип Autoencoding'а позволяет выделять какие-то признаки, не слишком снижая ошибку. Также в данном внутренние слои можно обучать больше эпох (благо слои довольно небольшие), тогда ошибка на них будет еще меньше."
   ]
  }
 ],
 "metadata": {
  "kernelspec": {
   "display_name": "Python 3",
   "language": "python",
   "name": "python3"
  },
  "language_info": {
   "codemirror_mode": {
    "name": "ipython",
    "version": 3
   },
   "file_extension": ".py",
   "mimetype": "text/x-python",
   "name": "python",
   "nbconvert_exporter": "python",
   "pygments_lexer": "ipython3",
   "version": "3.4.3"
  }
 },
 "nbformat": 4,
 "nbformat_minor": 1
}
